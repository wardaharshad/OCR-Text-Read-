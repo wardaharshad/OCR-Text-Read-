{
 "cells": [
  {
   "cell_type": "markdown",
   "metadata": {},
   "source": [
    "# READ TEXT FROM SCANNED IMAGES\n",
    "\n",
    "Tesseract is an optical character recognition engine for various operating systems. It is free software, released under the Apache License, Version 2.0, and development has been sponsored by Google since 2006. In 2006, Tesseract was considered one of the most accurate open-source OCR engines then available.\n",
    "\n",
    "##### STEP#1: DOWNLOAD TESSERACT OCR:\n",
    "\n",
    "32 bit installation:\n",
    "https://digi.bib.uni-mannheim.de/tesseract/tesseract-ocr-w32-setup-v5.0.0-alpha.20191030.exe\n",
    "\n",
    "64 bit installation:\n",
    "https://digi.bib.uni-mannheim.de/tesseract/tesseract-ocr-w64-setup-v5.0.0-alpha.20191030.exe\n",
    "\n",
    "##### STEP#2: SET PATH\n",
    "\n",
    "##### STEP#3: INSTALL LIBRARIES\n",
    "\n",
    "!pip install pillow <BR>\n",
    "!pip install pil<BR>\n",
    "!pip install pytesseract<BR>\n",
    "\n",
    "##### STEP#4: RUN THE FOLLOWING CODE:\n",
    "\n",
    "from PIL import  Image # pip install pillow and pil both in cmd <BR>\n",
    "import pytesseract     # pip install pytesseract and pip install tesseract if it give error so install it manualy <BR>\n",
    "im=Image.open(\"phototest.tif\")<BR>\n",
    "text=pytesseract.image_to_string(im, lang=\"eng\")<BR>\n",
    "print(text)"
   ]
  },
  {
   "cell_type": "code",
   "execution_count": 1,
   "metadata": {},
   "outputs": [
    {
     "name": "stdout",
     "output_type": "stream",
     "text": [
      "This is a lot of 12 point text to test the\n",
      "ocr code and see if it works on all types\n",
      "of file format.\n",
      "\n",
      "The quick brown dog jumped over the\n",
      "lazy fox. The quick brown dog jumped\n",
      "over the lazy fox. The quick brown dog\n",
      "jumped over the lazy fox. The quick\n",
      "brown dog jumped over the lazy fox.\n",
      "\f",
      "\n"
     ]
    }
   ],
   "source": [
    "from PIL import Image # pip install pillow and pil both in cmd\n",
    "import pytesseract # pip install pytesseract and pip install tesseract if it give error so install it manualy\n",
    "im=Image.open(\"phototest.tif\")\n",
    "text=pytesseract.image_to_string(im, lang=\"eng\")\n",
    "print(text)"
   ]
  },
  {
   "cell_type": "code",
   "execution_count": null,
   "metadata": {},
   "outputs": [],
   "source": []
  }
 ],
 "metadata": {
  "kernelspec": {
   "display_name": "Python 3",
   "language": "python",
   "name": "python3"
  },
  "language_info": {
   "codemirror_mode": {
    "name": "ipython",
    "version": 3
   },
   "file_extension": ".py",
   "mimetype": "text/x-python",
   "name": "python",
   "nbconvert_exporter": "python",
   "pygments_lexer": "ipython3",
   "version": "3.8.7"
  }
 },
 "nbformat": 4,
 "nbformat_minor": 2
}
